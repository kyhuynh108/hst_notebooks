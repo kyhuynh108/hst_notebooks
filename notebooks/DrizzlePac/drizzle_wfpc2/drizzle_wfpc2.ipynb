{
 "cells": [
  {
   "cell_type": "markdown",
   "metadata": {},
   "source": [
    "# Drizzling WFPC2 Images to use a Single Zeropoint"
   ]
  },
  {
   "cell_type": "markdown",
   "metadata": {},
   "source": [
    "<div class=\"alert-danger\">Note: The notebook in this repository 'Initialization.ipynb' goes over many of the basic concepts such as the setup of the environment/package installation and should be read first if you are new to HST images, DrizzlePac, or Astroquery.</div>"
   ]
  },
  {
   "cell_type": "markdown",
   "metadata": {},
   "source": [
    "## Introduction\n",
    "\n",
    "Extra care must be taken when using `AstroDrizzle` to combine observations from detectors comprised of multiple chips of varying sensitivity. `AstroDrizzle` works with calibrated images in units of counts (electrons or Data Numbers) or count rates and not in units of flux. It assumes that all input frames can be converted to physical flux units using a single inverse-sensitivity factor, recorded in the FITS image headers as `PHOTFLAM`, and the output drizzled product simply copies the `PHOTFLAM` keyword value from the first input image. When this occurs, the inverse-sensitivity will vary across the final drizzled product, and users will need to keep track of which sources fell on which chip when doing photometry. Moreover, varying detector sensitivities will affect the cosmic-ray rejection algorithm used by `AstroDrizzle`, and this may result in the misidentification of some good pixels as cosmic rays.\n",
    "\n",
    "This is a typical situation when drizzle-combining images from HST instruments with different chip sensitivities, e.g. Wide Field and Planetary Camera 2 (WFPC2). For more detail, see the section on [Gain Variation](http://www.stsci.edu/instruments/wfpc2/Wfpc2_dhb/wfpc2_ch53.html) under 'Position-Dependent Photometric Corrections' in the WFPC2 Data Handbook. As a result, each of the four chips requires a [unique PHOTFLAM](http://www.stsci.edu/instruments/wfpc2/Wfpc2_dhb/wfpc2_ch52.html#1933986) header keyword value. A similar situation may occur when drizzle-combining observations taken over a span of several years as detector's sensitivity declines over time, see e.g. [ACS ISR 2016-03](https://doi.org/10.3847/0004-6256/152/3/60).\n",
    "\n",
    "One approach is to rescale the input data so that `AstroDrizzle` can properly assume the images/chips have the same sensitivity; that is, a single `PHOTFLAM` value can be used to convert re-scaled image counts (or count-rates) to physical _integrated_ flux units. The `photeq` task in `Drizzlepac` automates this image intensity rescaling to a single inverse-sensitivity factor `PHOTFLAM`.\n",
    "\n",
    "In this example notebook, archival WFPC2 images are used to demonstrate advanced reprocessing using `TweakReg` and `AstroDrizzle` for alignment and image combination. The notebook is based on a prior WFPC2 [example](http://www.stsci.edu/hst/HST_overview/drizzlepac/examples/example7) but includes additional information about equalizing the chip sensitivities prior to combining. \n",
    "\n",
    "**NOTE:** It is important to note that `photeq` only adjusts image counts so that _integrated_ physical fluxes can be obtained using a single `PHOTFLAM`. It does nothing to account for different throughtputs at different wavelengths."
   ]
  },
  {
   "cell_type": "code",
   "execution_count": 13,
   "metadata": {},
   "outputs": [],
   "source": [
    "import shutil\n",
    "import glob\n",
    "import os\n",
    "\n",
    "import matplotlib.pyplot as plt\n",
    "from astropy.io import fits\n",
    "\n",
    "from astroquery.mast import Observations\n",
    "from stwcs.updatewcs import updatewcs\n",
    "from drizzlepac import tweakreg, astrodrizzle, photeq\n",
    "\n",
    "# ONLY needed for the simulation section:\n",
    "import numpy as np\n",
    "from stwcs.wcsutil import HSTWCS\n",
    "from drizzlepac.wfpc2Data import WFPC2_GAINS\n",
    "\n",
    "%matplotlib inline"
   ]
  },
  {
   "cell_type": "markdown",
   "metadata": {},
   "source": [
    "## 1. Download the Data\n",
    "\n",
    "This example uses WFPC2 observations of Messier 2 in the F814W filter. The data come from GO proposal [11100](http://www.stsci.edu/cgi-bin/get-proposal-info?id=11100&observatory=HST) _\"Two new 'bullets' for MOND: revealing the properties of dark matter in massive merging clusters\"_. Four images were acquired using a 4-pt dither box pattern, followed by two images offset with a dither-line pattern. \n",
    "\n",
    "The data are downloaded using the `astroquery` API to access the [MAST](http://archive.stsci.edu) archive. The `astroquery.mast` [documentation](http://astroquery.readthedocs.io/en/latest/mast/mast.html) has more examples for how to find and download data from MAST."
   ]
  },
  {
   "cell_type": "code",
   "execution_count": 14,
   "metadata": {
    "scrolled": false
   },
   "outputs": [
    {
     "name": "stdout",
     "output_type": "stream",
     "text": [
      "Downloading URL https://mast.stsci.edu/api/v0.1/Download/file?uri=mast:HST/product/ua060502m_c0m.fits to ./mastDownload/HST/ua060502m/ua060502m_c0m.fits ... [Done]\n",
      "Downloading URL https://mast.stsci.edu/api/v0.1/Download/file?uri=mast:HST/product/ua060502m_c1m.fits to ./mastDownload/HST/ua060502m/ua060502m_c1m.fits ... [Done]\n",
      "Downloading URL https://mast.stsci.edu/api/v0.1/Download/file?uri=mast:HST/product/ua060504m_c0m.fits to ./mastDownload/HST/ua060504m/ua060504m_c0m.fits ... [Done]\n",
      "Downloading URL https://mast.stsci.edu/api/v0.1/Download/file?uri=mast:HST/product/ua060504m_c1m.fits to ./mastDownload/HST/ua060504m/ua060504m_c1m.fits ... [Done]\n",
      "Downloading URL https://mast.stsci.edu/api/v0.1/Download/file?uri=mast:HST/product/ua060506m_c0m.fits to ./mastDownload/HST/ua060506m/ua060506m_c0m.fits ... [Done]\n",
      "Downloading URL https://mast.stsci.edu/api/v0.1/Download/file?uri=mast:HST/product/ua060506m_c1m.fits to ./mastDownload/HST/ua060506m/ua060506m_c1m.fits ... [Done]\n",
      "Downloading URL https://mast.stsci.edu/api/v0.1/Download/file?uri=mast:HST/product/ua060508m_c0m.fits to ./mastDownload/HST/ua060508m/ua060508m_c0m.fits ... [Done]\n",
      "Downloading URL https://mast.stsci.edu/api/v0.1/Download/file?uri=mast:HST/product/ua060508m_c1m.fits to ./mastDownload/HST/ua060508m/ua060508m_c1m.fits ... [Done]\n",
      "Downloading URL https://mast.stsci.edu/api/v0.1/Download/file?uri=mast:HST/product/ua06050am_c0m.fits to ./mastDownload/HST/ua06050am/ua06050am_c0m.fits ... [Done]\n",
      "Downloading URL https://mast.stsci.edu/api/v0.1/Download/file?uri=mast:HST/product/ua06050am_c1m.fits to ./mastDownload/HST/ua06050am/ua06050am_c1m.fits ... [Done]\n",
      "Downloading URL https://mast.stsci.edu/api/v0.1/Download/file?uri=mast:HST/product/ua06050cm_c0m.fits to ./mastDownload/HST/ua06050cm/ua06050cm_c0m.fits ... [Done]\n",
      "Downloading URL https://mast.stsci.edu/api/v0.1/Download/file?uri=mast:HST/product/ua06050cm_c1m.fits to ./mastDownload/HST/ua06050cm/ua06050cm_c1m.fits ... [Done]\n"
     ]
    }
   ],
   "source": [
    "# Retrieve the observation information.\n",
    "if os.path.isdir('mastDownload'):\n",
    "    shutil.rmtree('mastDownload')\n",
    "obs_table = Observations.query_criteria(obs_id='ua0605*', filters='F814W', obstype='ALL')\n",
    "products = Observations.get_product_list(obs_table)\n",
    "\n",
    "# Download only the ua0605*_c0m.fits and ua0605*_c1m.fits (DQ) images:\n",
    "Observations.download_products(products, mrp_only=False, productSubGroupDescription=['C0M', 'C1M'], extension='fits')\n",
    "\n",
    "# Move the files from the mastDownload directory to the current working\n",
    "# directory and make a backup of the files.\n",
    "fits_files = glob.glob('mastDownload/HST/ua*/ua*c?m.fits')\n",
    "for fil in fits_files:\n",
    "    base_name = os.path.basename(fil)\n",
    "    if os.path.isfile(base_name):\n",
    "        os.remove(base_name)\n",
    "    shutil.move(fil, '.')\n",
    "    \n",
    "# Delete the mastDownload directory and all subdirectories it contains.\n",
    "shutil.rmtree('mastDownload')"
   ]
  },
  {
   "cell_type": "markdown",
   "metadata": {},
   "source": [
    "## 2. Update the WCS\n",
    "\n",
    "WFPC2 images downloaded from the archive contain World Coordinate System (WCS) information based on an older-style description of image distortions. Before these images can be processed with `drizzlepac`, their WCS must be converted to a new format. This can be achieved using `updatewcs()` function from the `stwcs` package. More details may be found here: ['Making WFPC2 Images Compatible with AstroDrizzle'](http://documents.stsci.edu/hst/HST_overview/documents/DrizzlePac/ch45.html#601857). Note that `updatewcs` is no longer a parameter in AstroDrizzle or TweakReg and must be run separately before processing the data. \n",
    "\n",
    "First we download the reference files from the CRDS website. See the initialization notebook in this repository for more information.  "
   ]
  },
  {
   "cell_type": "code",
   "execution_count": 16,
   "metadata": {
    "scrolled": false
   },
   "outputs": [
    {
     "name": "stderr",
     "output_type": "stream",
     "text": [
      "sh: crds: command not found\n"
     ]
    }
   ],
   "source": [
    "os.environ['CRDS_SERVER_URL'] = 'https://hst-crds.stsci.edu'\n",
    "os.environ['CRDS_PATH'] = os.path.abspath(os.path.join('.', 'reference_files'))\n",
    "os.system('crds bestrefs --files ua0605*_c0m.fits --sync-references=1 --update-bestrefs')\n",
    "os.environ['uref'] = os.path.abspath(os.path.join('.', 'reference_files', 'references', 'hst', 'wfpc2')) + os.path.sep"
   ]
  },
  {
   "cell_type": "markdown",
   "metadata": {},
   "source": [
    "**NOTE:** This next step may raise warnings because the Astrometry database is in progress and currently does not cover the entire sky. Please ignore these warnings. The WCS will still be updated.  "
   ]
  },
  {
   "cell_type": "code",
   "execution_count": 17,
   "metadata": {
    "scrolled": false
   },
   "outputs": [
    {
     "name": "stdout",
     "output_type": "stream",
     "text": [
      "AstrometryDB service available...\n"
     ]
    },
    {
     "ename": "FileNotFoundError",
     "evalue": "[Errno 2] No such file or directory: '/Users/khuynh/Documents/hst_notebooks/notebooks/DrizzlePac/drizzle_wfpc2/reference_files/references/hst/wfpc2/s8f1222cu_dxy.fits'",
     "output_type": "error",
     "traceback": [
      "\u001b[0;31m---------------------------------------------------------------------------\u001b[0m",
      "\u001b[0;31mFileNotFoundError\u001b[0m                         Traceback (most recent call last)",
      "Cell \u001b[0;32mIn[17], line 1\u001b[0m\n\u001b[0;32m----> 1\u001b[0m \u001b[43mupdatewcs\u001b[49m\u001b[43m(\u001b[49m\u001b[38;5;124;43m'\u001b[39;49m\u001b[38;5;124;43mua*c0m.fits\u001b[39;49m\u001b[38;5;124;43m'\u001b[39;49m\u001b[43m,\u001b[49m\u001b[43m \u001b[49m\u001b[43muse_db\u001b[49m\u001b[38;5;241;43m=\u001b[39;49m\u001b[38;5;28;43;01mTrue\u001b[39;49;00m\u001b[43m)\u001b[49m\n",
      "File \u001b[0;32m~/miniconda3/envs/notebooks_env/lib/python3.8/site-packages/stwcs/updatewcs/__init__.py:144\u001b[0m, in \u001b[0;36mupdatewcs\u001b[0;34m(input, vacorr, tddcorr, npolcorr, d2imcorr, checkfiles, verbose, use_db, all_wcs, remove_duplicates)\u001b[0m\n\u001b[1;32m    141\u001b[0m     astrometry \u001b[38;5;241m=\u001b[39m astrometry_utils\u001b[38;5;241m.\u001b[39mAstrometryDB(write_log\u001b[38;5;241m=\u001b[39mwrite_db_log)\n\u001b[1;32m    143\u001b[0m \u001b[38;5;28;01mfor\u001b[39;00m f \u001b[38;5;129;01min\u001b[39;00m files:\n\u001b[0;32m--> 144\u001b[0m     acorr \u001b[38;5;241m=\u001b[39m \u001b[43mapply_corrections\u001b[49m\u001b[38;5;241;43m.\u001b[39;49m\u001b[43msetCorrections\u001b[49m\u001b[43m(\u001b[49m\u001b[43mf\u001b[49m\u001b[43m,\u001b[49m\u001b[43m \u001b[49m\u001b[43mvacorr\u001b[49m\u001b[38;5;241;43m=\u001b[39;49m\u001b[43mvacorr\u001b[49m\u001b[43m,\u001b[49m\u001b[43m \u001b[49m\u001b[43mtddcorr\u001b[49m\u001b[38;5;241;43m=\u001b[39;49m\u001b[43mtddcorr\u001b[49m\u001b[43m,\u001b[49m\n\u001b[1;32m    145\u001b[0m \u001b[43m                                             \u001b[49m\u001b[43mnpolcorr\u001b[49m\u001b[38;5;241;43m=\u001b[39;49m\u001b[43mnpolcorr\u001b[49m\u001b[43m,\u001b[49m\u001b[43m \u001b[49m\u001b[43md2imcorr\u001b[49m\u001b[38;5;241;43m=\u001b[39;49m\u001b[43md2imcorr\u001b[49m\u001b[43m)\u001b[49m\n\u001b[1;32m    146\u001b[0m     \u001b[38;5;28;01mif\u001b[39;00m \u001b[38;5;124m'\u001b[39m\u001b[38;5;124mMakeWCS\u001b[39m\u001b[38;5;124m'\u001b[39m \u001b[38;5;129;01min\u001b[39;00m acorr \u001b[38;5;129;01mand\u001b[39;00m newIDCTAB(f):\n\u001b[1;32m    147\u001b[0m         logger\u001b[38;5;241m.\u001b[39mwarning(\u001b[38;5;124m\"\u001b[39m\u001b[38;5;130;01m\\n\u001b[39;00m\u001b[38;5;130;01m\\t\u001b[39;00m\u001b[38;5;124mNew IDCTAB file detected. All current WCSs will be deleted\u001b[39m\u001b[38;5;124m\"\u001b[39m)\n",
      "File \u001b[0;32m~/miniconda3/envs/notebooks_env/lib/python3.8/site-packages/stwcs/updatewcs/apply_corrections.py:63\u001b[0m, in \u001b[0;36msetCorrections\u001b[0;34m(fname, vacorr, tddcorr, npolcorr, d2imcorr)\u001b[0m\n\u001b[1;32m     59\u001b[0m \u001b[38;5;66;03m# For WFPC2 images, the old-style DGEOFILE needs to be\u001b[39;00m\n\u001b[1;32m     60\u001b[0m \u001b[38;5;66;03m# converted on-the-fly into a proper D2IMFILE here...\u001b[39;00m\n\u001b[1;32m     61\u001b[0m \u001b[38;5;28;01mif\u001b[39;00m instrument \u001b[38;5;241m==\u001b[39m \u001b[38;5;124m'\u001b[39m\u001b[38;5;124mWFPC2\u001b[39m\u001b[38;5;124m'\u001b[39m:\n\u001b[1;32m     62\u001b[0m     \u001b[38;5;66;03m# check for DGEOFILE, and convert it to D2IMFILE if found\u001b[39;00m\n\u001b[0;32m---> 63\u001b[0m     _ \u001b[38;5;241m=\u001b[39m \u001b[43mwfpc2_dgeo\u001b[49m\u001b[38;5;241;43m.\u001b[39;49m\u001b[43mupdate_wfpc2_d2geofile\u001b[49m\u001b[43m(\u001b[49m\u001b[43mfname\u001b[49m\u001b[43m)\u001b[49m\n\u001b[1;32m     64\u001b[0m \u001b[38;5;66;03m# Check if idctab is present on disk\u001b[39;00m\n\u001b[1;32m     65\u001b[0m \u001b[38;5;66;03m# If kw IDCTAB is present in the header but the file is\u001b[39;00m\n\u001b[1;32m     66\u001b[0m \u001b[38;5;66;03m# not found on disk, do not run TDDCorr, MakeCWS and CompSIP\u001b[39;00m\n\u001b[1;32m     67\u001b[0m \u001b[38;5;28;01mif\u001b[39;00m \u001b[38;5;129;01mnot\u001b[39;00m foundIDCTAB(fname):\n",
      "File \u001b[0;32m~/miniconda3/envs/notebooks_env/lib/python3.8/site-packages/stwcs/updatewcs/wfpc2_dgeo.py:54\u001b[0m, in \u001b[0;36mupdate_wfpc2_d2geofile\u001b[0;34m(filename, fhdu)\u001b[0m\n\u001b[1;32m     52\u001b[0m logger\u001b[38;5;241m.\u001b[39minfo(\u001b[38;5;124m'\u001b[39m\u001b[38;5;124mConverting DGEOFILE \u001b[39m\u001b[38;5;132;01m%s\u001b[39;00m\u001b[38;5;124m into D2IMFILE...\u001b[39m\u001b[38;5;124m'\u001b[39m \u001b[38;5;241m%\u001b[39m dgeofile)\n\u001b[1;32m     53\u001b[0m rootname \u001b[38;5;241m=\u001b[39m filename[:filename\u001b[38;5;241m.\u001b[39mfind(\u001b[38;5;124m'\u001b[39m\u001b[38;5;124m.fits\u001b[39m\u001b[38;5;124m'\u001b[39m)]\n\u001b[0;32m---> 54\u001b[0m d2imfile \u001b[38;5;241m=\u001b[39m \u001b[43mconvert_dgeo_to_d2im\u001b[49m\u001b[43m(\u001b[49m\u001b[43mdgeofile\u001b[49m\u001b[43m,\u001b[49m\u001b[43m \u001b[49m\u001b[43mrootname\u001b[49m\u001b[43m)\u001b[49m\n\u001b[1;32m     55\u001b[0m fhdu[\u001b[38;5;124m'\u001b[39m\u001b[38;5;124mPRIMARY\u001b[39m\u001b[38;5;124m'\u001b[39m]\u001b[38;5;241m.\u001b[39mheader[\u001b[38;5;124m'\u001b[39m\u001b[38;5;124mODGEOFIL\u001b[39m\u001b[38;5;124m'\u001b[39m] \u001b[38;5;241m=\u001b[39m dgeofile\n\u001b[1;32m     56\u001b[0m fhdu[\u001b[38;5;124m'\u001b[39m\u001b[38;5;124mPRIMARY\u001b[39m\u001b[38;5;124m'\u001b[39m]\u001b[38;5;241m.\u001b[39mheader[\u001b[38;5;124m'\u001b[39m\u001b[38;5;124mDGEOFILE\u001b[39m\u001b[38;5;124m'\u001b[39m] \u001b[38;5;241m=\u001b[39m \u001b[38;5;124m'\u001b[39m\u001b[38;5;124mN/A\u001b[39m\u001b[38;5;124m'\u001b[39m\n",
      "File \u001b[0;32m~/miniconda3/envs/notebooks_env/lib/python3.8/site-packages/stwcs/updatewcs/wfpc2_dgeo.py:77\u001b[0m, in \u001b[0;36mconvert_dgeo_to_d2im\u001b[0;34m(dgeofile, output, clobber)\u001b[0m\n\u001b[1;32m     74\u001b[0m \u001b[38;5;28;01mdef\u001b[39;00m \u001b[38;5;21mconvert_dgeo_to_d2im\u001b[39m(dgeofile, output, clobber\u001b[38;5;241m=\u001b[39m\u001b[38;5;28;01mTrue\u001b[39;00m):\n\u001b[1;32m     75\u001b[0m \u001b[38;5;250m    \u001b[39m\u001b[38;5;124;03m\"\"\" Routine that converts the WFPC2 DGEOFILE into a D2IMFILE.\u001b[39;00m\n\u001b[1;32m     76\u001b[0m \u001b[38;5;124;03m    \"\"\"\u001b[39;00m\n\u001b[0;32m---> 77\u001b[0m     dgeo \u001b[38;5;241m=\u001b[39m \u001b[43mfileutil\u001b[49m\u001b[38;5;241;43m.\u001b[39;49m\u001b[43mopenImage\u001b[49m\u001b[43m(\u001b[49m\u001b[43mdgeofile\u001b[49m\u001b[43m)\u001b[49m\n\u001b[1;32m     78\u001b[0m     outname \u001b[38;5;241m=\u001b[39m output \u001b[38;5;241m+\u001b[39m \u001b[38;5;124m'\u001b[39m\u001b[38;5;124m_d2im.fits\u001b[39m\u001b[38;5;124m'\u001b[39m\n\u001b[1;32m     80\u001b[0m     removeFileSafely(outname)\n",
      "File \u001b[0;32m~/miniconda3/envs/notebooks_env/lib/python3.8/site-packages/stsci/tools/fileutil.py:706\u001b[0m, in \u001b[0;36mopenImage\u001b[0;34m(filename, mode, memmap, writefits, clobber, fitsname)\u001b[0m\n\u001b[1;32m    703\u001b[0m     _fname \u001b[38;5;241m=\u001b[39m filename\n\u001b[1;32m    705\u001b[0m \u001b[38;5;66;03m# Check whether we have a FITS file and if so what type\u001b[39;00m\n\u001b[0;32m--> 706\u001b[0m isfits, fitstype \u001b[38;5;241m=\u001b[39m \u001b[43misFits\u001b[49m\u001b[43m(\u001b[49m\u001b[43m_fname\u001b[49m\u001b[43m)\u001b[49m\n\u001b[1;32m    708\u001b[0m \u001b[38;5;28;01mif\u001b[39;00m isfits:\n\u001b[1;32m    709\u001b[0m     \u001b[38;5;28;01mif\u001b[39;00m fitstype \u001b[38;5;241m!=\u001b[39m \u001b[38;5;124m'\u001b[39m\u001b[38;5;124mwaiver\u001b[39m\u001b[38;5;124m'\u001b[39m:\n\u001b[1;32m    710\u001b[0m         \u001b[38;5;66;03m# Open the FITS file\u001b[39;00m\n",
      "File \u001b[0;32m~/miniconda3/envs/notebooks_env/lib/python3.8/site-packages/stsci/tools/fileutil.py:257\u001b[0m, in \u001b[0;36misFits\u001b[0;34m(input)\u001b[0m\n\u001b[1;32m    255\u001b[0m \u001b[38;5;28;01mif\u001b[39;00m f \u001b[38;5;129;01mis\u001b[39;00m \u001b[38;5;28;01mNone\u001b[39;00m:\n\u001b[1;32m    256\u001b[0m     \u001b[38;5;28;01mtry\u001b[39;00m:\n\u001b[0;32m--> 257\u001b[0m         f \u001b[38;5;241m=\u001b[39m \u001b[43mfits\u001b[49m\u001b[38;5;241;43m.\u001b[39;49m\u001b[43mopen\u001b[49m\u001b[43m(\u001b[49m\u001b[38;5;28;43minput\u001b[39;49m\u001b[43m,\u001b[49m\u001b[43m \u001b[49m\u001b[43mmode\u001b[49m\u001b[38;5;241;43m=\u001b[39;49m\u001b[38;5;124;43m'\u001b[39;49m\u001b[38;5;124;43mreadonly\u001b[39;49m\u001b[38;5;124;43m'\u001b[39;49m\u001b[43m)\u001b[49m\n\u001b[1;32m    258\u001b[0m         fileclose \u001b[38;5;241m=\u001b[39m \u001b[38;5;28;01mTrue\u001b[39;00m\n\u001b[1;32m    259\u001b[0m     \u001b[38;5;28;01mexcept\u001b[39;00m \u001b[38;5;167;01mException\u001b[39;00m:\n",
      "File \u001b[0;32m~/miniconda3/envs/notebooks_env/lib/python3.8/site-packages/stsci/tools/stpyfits.py:64\u001b[0m, in \u001b[0;36mwith_stpyfits.<locals>.wrapped_with_stpyfits\u001b[0;34m(*args, **kwargs)\u001b[0m\n\u001b[1;32m     62\u001b[0m     \u001b[38;5;28;01mif\u001b[39;00m \u001b[38;5;124m'\u001b[39m\u001b[38;5;124mwrite\u001b[39m\u001b[38;5;124m'\u001b[39m \u001b[38;5;129;01mnot\u001b[39;00m \u001b[38;5;129;01min\u001b[39;00m func\u001b[38;5;241m.\u001b[39m\u001b[38;5;18m__name__\u001b[39m:\n\u001b[1;32m     63\u001b[0m         kwargs[\u001b[38;5;124m'\u001b[39m\u001b[38;5;124mlazy_load_hdus\u001b[39m\u001b[38;5;124m'\u001b[39m] \u001b[38;5;241m=\u001b[39m \u001b[38;5;28;01mFalse\u001b[39;00m\n\u001b[0;32m---> 64\u001b[0m     retval \u001b[38;5;241m=\u001b[39m \u001b[43mfunc\u001b[49m\u001b[43m(\u001b[49m\u001b[38;5;241;43m*\u001b[39;49m\u001b[43margs\u001b[49m\u001b[43m,\u001b[49m\u001b[43m \u001b[49m\u001b[38;5;241;43m*\u001b[39;49m\u001b[38;5;241;43m*\u001b[39;49m\u001b[43mkwargs\u001b[49m\u001b[43m)\u001b[49m\n\u001b[1;32m     65\u001b[0m \u001b[38;5;28;01mfinally\u001b[39;00m:\n\u001b[1;32m     66\u001b[0m     \u001b[38;5;66;03m# Only disable stpyfits if it wasn't already enabled\u001b[39;00m\n\u001b[1;32m     67\u001b[0m     \u001b[38;5;28;01mif\u001b[39;00m \u001b[38;5;129;01mnot\u001b[39;00m was_enabled:\n",
      "File \u001b[0;32m~/miniconda3/envs/notebooks_env/lib/python3.8/site-packages/astropy/io/fits/hdu/hdulist.py:214\u001b[0m, in \u001b[0;36mfitsopen\u001b[0;34m(name, mode, memmap, save_backup, cache, lazy_load_hdus, ignore_missing_simple, use_fsspec, fsspec_kwargs, **kwargs)\u001b[0m\n\u001b[1;32m    211\u001b[0m \u001b[38;5;28;01mif\u001b[39;00m \u001b[38;5;129;01mnot\u001b[39;00m name:\n\u001b[1;32m    212\u001b[0m     \u001b[38;5;28;01mraise\u001b[39;00m \u001b[38;5;167;01mValueError\u001b[39;00m(\u001b[38;5;124mf\u001b[39m\u001b[38;5;124m\"\u001b[39m\u001b[38;5;124mEmpty filename: \u001b[39m\u001b[38;5;132;01m{\u001b[39;00mname\u001b[38;5;132;01m!r}\u001b[39;00m\u001b[38;5;124m\"\u001b[39m)\n\u001b[0;32m--> 214\u001b[0m \u001b[38;5;28;01mreturn\u001b[39;00m \u001b[43mHDUList\u001b[49m\u001b[38;5;241;43m.\u001b[39;49m\u001b[43mfromfile\u001b[49m\u001b[43m(\u001b[49m\n\u001b[1;32m    215\u001b[0m \u001b[43m    \u001b[49m\u001b[43mname\u001b[49m\u001b[43m,\u001b[49m\n\u001b[1;32m    216\u001b[0m \u001b[43m    \u001b[49m\u001b[43mmode\u001b[49m\u001b[43m,\u001b[49m\n\u001b[1;32m    217\u001b[0m \u001b[43m    \u001b[49m\u001b[43mmemmap\u001b[49m\u001b[43m,\u001b[49m\n\u001b[1;32m    218\u001b[0m \u001b[43m    \u001b[49m\u001b[43msave_backup\u001b[49m\u001b[43m,\u001b[49m\n\u001b[1;32m    219\u001b[0m \u001b[43m    \u001b[49m\u001b[43mcache\u001b[49m\u001b[43m,\u001b[49m\n\u001b[1;32m    220\u001b[0m \u001b[43m    \u001b[49m\u001b[43mlazy_load_hdus\u001b[49m\u001b[43m,\u001b[49m\n\u001b[1;32m    221\u001b[0m \u001b[43m    \u001b[49m\u001b[43mignore_missing_simple\u001b[49m\u001b[43m,\u001b[49m\n\u001b[1;32m    222\u001b[0m \u001b[43m    \u001b[49m\u001b[43muse_fsspec\u001b[49m\u001b[38;5;241;43m=\u001b[39;49m\u001b[43muse_fsspec\u001b[49m\u001b[43m,\u001b[49m\n\u001b[1;32m    223\u001b[0m \u001b[43m    \u001b[49m\u001b[43mfsspec_kwargs\u001b[49m\u001b[38;5;241;43m=\u001b[39;49m\u001b[43mfsspec_kwargs\u001b[49m\u001b[43m,\u001b[49m\n\u001b[1;32m    224\u001b[0m \u001b[43m    \u001b[49m\u001b[38;5;241;43m*\u001b[39;49m\u001b[38;5;241;43m*\u001b[39;49m\u001b[43mkwargs\u001b[49m\u001b[43m,\u001b[49m\n\u001b[1;32m    225\u001b[0m \u001b[43m\u001b[49m\u001b[43m)\u001b[49m\n",
      "File \u001b[0;32m~/miniconda3/envs/notebooks_env/lib/python3.8/site-packages/astropy/io/fits/hdu/hdulist.py:482\u001b[0m, in \u001b[0;36mHDUList.fromfile\u001b[0;34m(cls, fileobj, mode, memmap, save_backup, cache, lazy_load_hdus, ignore_missing_simple, **kwargs)\u001b[0m\n\u001b[1;32m    462\u001b[0m \u001b[38;5;129m@classmethod\u001b[39m\n\u001b[1;32m    463\u001b[0m \u001b[38;5;28;01mdef\u001b[39;00m \u001b[38;5;21mfromfile\u001b[39m(\n\u001b[1;32m    464\u001b[0m     \u001b[38;5;28mcls\u001b[39m,\n\u001b[0;32m   (...)\u001b[0m\n\u001b[1;32m    472\u001b[0m     \u001b[38;5;241m*\u001b[39m\u001b[38;5;241m*\u001b[39mkwargs,\n\u001b[1;32m    473\u001b[0m ):\n\u001b[1;32m    474\u001b[0m \u001b[38;5;250m    \u001b[39m\u001b[38;5;124;03m\"\"\"\u001b[39;00m\n\u001b[1;32m    475\u001b[0m \u001b[38;5;124;03m    Creates an `HDUList` instance from a file-like object.\u001b[39;00m\n\u001b[1;32m    476\u001b[0m \n\u001b[0;32m   (...)\u001b[0m\n\u001b[1;32m    479\u001b[0m \u001b[38;5;124;03m    documentation for details of the parameters accepted by this method).\u001b[39;00m\n\u001b[1;32m    480\u001b[0m \u001b[38;5;124;03m    \"\"\"\u001b[39;00m\n\u001b[0;32m--> 482\u001b[0m     \u001b[38;5;28;01mreturn\u001b[39;00m \u001b[38;5;28;43mcls\u001b[39;49m\u001b[38;5;241;43m.\u001b[39;49m\u001b[43m_readfrom\u001b[49m\u001b[43m(\u001b[49m\n\u001b[1;32m    483\u001b[0m \u001b[43m        \u001b[49m\u001b[43mfileobj\u001b[49m\u001b[38;5;241;43m=\u001b[39;49m\u001b[43mfileobj\u001b[49m\u001b[43m,\u001b[49m\n\u001b[1;32m    484\u001b[0m \u001b[43m        \u001b[49m\u001b[43mmode\u001b[49m\u001b[38;5;241;43m=\u001b[39;49m\u001b[43mmode\u001b[49m\u001b[43m,\u001b[49m\n\u001b[1;32m    485\u001b[0m \u001b[43m        \u001b[49m\u001b[43mmemmap\u001b[49m\u001b[38;5;241;43m=\u001b[39;49m\u001b[43mmemmap\u001b[49m\u001b[43m,\u001b[49m\n\u001b[1;32m    486\u001b[0m \u001b[43m        \u001b[49m\u001b[43msave_backup\u001b[49m\u001b[38;5;241;43m=\u001b[39;49m\u001b[43msave_backup\u001b[49m\u001b[43m,\u001b[49m\n\u001b[1;32m    487\u001b[0m \u001b[43m        \u001b[49m\u001b[43mcache\u001b[49m\u001b[38;5;241;43m=\u001b[39;49m\u001b[43mcache\u001b[49m\u001b[43m,\u001b[49m\n\u001b[1;32m    488\u001b[0m \u001b[43m        \u001b[49m\u001b[43mignore_missing_simple\u001b[49m\u001b[38;5;241;43m=\u001b[39;49m\u001b[43mignore_missing_simple\u001b[49m\u001b[43m,\u001b[49m\n\u001b[1;32m    489\u001b[0m \u001b[43m        \u001b[49m\u001b[43mlazy_load_hdus\u001b[49m\u001b[38;5;241;43m=\u001b[39;49m\u001b[43mlazy_load_hdus\u001b[49m\u001b[43m,\u001b[49m\n\u001b[1;32m    490\u001b[0m \u001b[43m        \u001b[49m\u001b[38;5;241;43m*\u001b[39;49m\u001b[38;5;241;43m*\u001b[39;49m\u001b[43mkwargs\u001b[49m\u001b[43m,\u001b[49m\n\u001b[1;32m    491\u001b[0m \u001b[43m    \u001b[49m\u001b[43m)\u001b[49m\n",
      "File \u001b[0;32m~/miniconda3/envs/notebooks_env/lib/python3.8/site-packages/astropy/io/fits/hdu/hdulist.py:1170\u001b[0m, in \u001b[0;36mHDUList._readfrom\u001b[0;34m(cls, fileobj, data, mode, memmap, cache, lazy_load_hdus, ignore_missing_simple, use_fsspec, fsspec_kwargs, **kwargs)\u001b[0m\n\u001b[1;32m   1167\u001b[0m \u001b[38;5;28;01mif\u001b[39;00m fileobj \u001b[38;5;129;01mis\u001b[39;00m \u001b[38;5;129;01mnot\u001b[39;00m \u001b[38;5;28;01mNone\u001b[39;00m:\n\u001b[1;32m   1168\u001b[0m     \u001b[38;5;28;01mif\u001b[39;00m \u001b[38;5;129;01mnot\u001b[39;00m \u001b[38;5;28misinstance\u001b[39m(fileobj, _File):\n\u001b[1;32m   1169\u001b[0m         \u001b[38;5;66;03m# instantiate a FITS file object (ffo)\u001b[39;00m\n\u001b[0;32m-> 1170\u001b[0m         fileobj \u001b[38;5;241m=\u001b[39m \u001b[43m_File\u001b[49m\u001b[43m(\u001b[49m\n\u001b[1;32m   1171\u001b[0m \u001b[43m            \u001b[49m\u001b[43mfileobj\u001b[49m\u001b[43m,\u001b[49m\n\u001b[1;32m   1172\u001b[0m \u001b[43m            \u001b[49m\u001b[43mmode\u001b[49m\u001b[38;5;241;43m=\u001b[39;49m\u001b[43mmode\u001b[49m\u001b[43m,\u001b[49m\n\u001b[1;32m   1173\u001b[0m \u001b[43m            \u001b[49m\u001b[43mmemmap\u001b[49m\u001b[38;5;241;43m=\u001b[39;49m\u001b[43mmemmap\u001b[49m\u001b[43m,\u001b[49m\n\u001b[1;32m   1174\u001b[0m \u001b[43m            \u001b[49m\u001b[43mcache\u001b[49m\u001b[38;5;241;43m=\u001b[39;49m\u001b[43mcache\u001b[49m\u001b[43m,\u001b[49m\n\u001b[1;32m   1175\u001b[0m \u001b[43m            \u001b[49m\u001b[43muse_fsspec\u001b[49m\u001b[38;5;241;43m=\u001b[39;49m\u001b[43muse_fsspec\u001b[49m\u001b[43m,\u001b[49m\n\u001b[1;32m   1176\u001b[0m \u001b[43m            \u001b[49m\u001b[43mfsspec_kwargs\u001b[49m\u001b[38;5;241;43m=\u001b[39;49m\u001b[43mfsspec_kwargs\u001b[49m\u001b[43m,\u001b[49m\n\u001b[1;32m   1177\u001b[0m \u001b[43m        \u001b[49m\u001b[43m)\u001b[49m\n\u001b[1;32m   1178\u001b[0m     \u001b[38;5;66;03m# The Astropy mode is determined by the _File initializer if the\u001b[39;00m\n\u001b[1;32m   1179\u001b[0m     \u001b[38;5;66;03m# supplied mode was None\u001b[39;00m\n\u001b[1;32m   1180\u001b[0m     mode \u001b[38;5;241m=\u001b[39m fileobj\u001b[38;5;241m.\u001b[39mmode\n",
      "File \u001b[0;32m~/miniconda3/envs/notebooks_env/lib/python3.8/site-packages/astropy/io/fits/file.py:218\u001b[0m, in \u001b[0;36m_File.__init__\u001b[0;34m(self, fileobj, mode, memmap, overwrite, cache, use_fsspec, fsspec_kwargs)\u001b[0m\n\u001b[1;32m    216\u001b[0m     \u001b[38;5;28mself\u001b[39m\u001b[38;5;241m.\u001b[39m_open_fileobj(fileobj, mode, overwrite)\n\u001b[1;32m    217\u001b[0m \u001b[38;5;28;01melif\u001b[39;00m \u001b[38;5;28misinstance\u001b[39m(fileobj, (\u001b[38;5;28mstr\u001b[39m, \u001b[38;5;28mbytes\u001b[39m)):\n\u001b[0;32m--> 218\u001b[0m     \u001b[38;5;28;43mself\u001b[39;49m\u001b[38;5;241;43m.\u001b[39;49m\u001b[43m_open_filename\u001b[49m\u001b[43m(\u001b[49m\u001b[43mfileobj\u001b[49m\u001b[43m,\u001b[49m\u001b[43m \u001b[49m\u001b[43mmode\u001b[49m\u001b[43m,\u001b[49m\u001b[43m \u001b[49m\u001b[43moverwrite\u001b[49m\u001b[43m)\u001b[49m\n\u001b[1;32m    219\u001b[0m \u001b[38;5;28;01melse\u001b[39;00m:\n\u001b[1;32m    220\u001b[0m     \u001b[38;5;28mself\u001b[39m\u001b[38;5;241m.\u001b[39m_open_filelike(fileobj, mode, overwrite)\n",
      "File \u001b[0;32m~/miniconda3/envs/notebooks_env/lib/python3.8/site-packages/astropy/io/fits/file.py:636\u001b[0m, in \u001b[0;36m_File._open_filename\u001b[0;34m(self, filename, mode, overwrite)\u001b[0m\n\u001b[1;32m    633\u001b[0m ext \u001b[38;5;241m=\u001b[39m os\u001b[38;5;241m.\u001b[39mpath\u001b[38;5;241m.\u001b[39msplitext(\u001b[38;5;28mself\u001b[39m\u001b[38;5;241m.\u001b[39mname)[\u001b[38;5;241m1\u001b[39m]\n\u001b[1;32m    635\u001b[0m \u001b[38;5;28;01mif\u001b[39;00m \u001b[38;5;129;01mnot\u001b[39;00m \u001b[38;5;28mself\u001b[39m\u001b[38;5;241m.\u001b[39m_try_read_compressed(\u001b[38;5;28mself\u001b[39m\u001b[38;5;241m.\u001b[39mname, magic, mode, ext\u001b[38;5;241m=\u001b[39mext):\n\u001b[0;32m--> 636\u001b[0m     \u001b[38;5;28mself\u001b[39m\u001b[38;5;241m.\u001b[39m_file \u001b[38;5;241m=\u001b[39m \u001b[38;5;28;43mopen\u001b[39;49m\u001b[43m(\u001b[49m\u001b[38;5;28;43mself\u001b[39;49m\u001b[38;5;241;43m.\u001b[39;49m\u001b[43mname\u001b[49m\u001b[43m,\u001b[49m\u001b[43m \u001b[49m\u001b[43mIO_FITS_MODES\u001b[49m\u001b[43m[\u001b[49m\u001b[43mmode\u001b[49m\u001b[43m]\u001b[49m\u001b[43m)\u001b[49m\n\u001b[1;32m    637\u001b[0m     \u001b[38;5;28mself\u001b[39m\u001b[38;5;241m.\u001b[39mclose_on_error \u001b[38;5;241m=\u001b[39m \u001b[38;5;28;01mTrue\u001b[39;00m\n\u001b[1;32m    639\u001b[0m \u001b[38;5;66;03m# Make certain we're back at the beginning of the file\u001b[39;00m\n\u001b[1;32m    640\u001b[0m \u001b[38;5;66;03m# BZ2File does not support seek when the file is open for writing, but\u001b[39;00m\n\u001b[1;32m    641\u001b[0m \u001b[38;5;66;03m# when opening a file for write, bz2.BZ2File always truncates anyway.\u001b[39;00m\n",
      "\u001b[0;31mFileNotFoundError\u001b[0m: [Errno 2] No such file or directory: '/Users/khuynh/Documents/hst_notebooks/notebooks/DrizzlePac/drizzle_wfpc2/reference_files/references/hst/wfpc2/s8f1222cu_dxy.fits'"
     ]
    }
   ],
   "source": [
    "updatewcs('ua*c0m.fits', use_db= True)"
   ]
  },
  {
   "cell_type": "markdown",
   "metadata": {},
   "source": [
    "### Backup an Image\n",
    "\n",
    "In a later section we will generate simulated data to illustrate the effects of drizzling WFPC2 images without sensitivity equalization. For that purpose we will need a copy of an original image that has the original inverse-sensitivity values (`PHOTFLAM`) in their headers. Here we create a backup copy of the first image.\n",
    "\n",
    "**NOTE:** This step is needed for illustration purpose in this notebook only. It is not needed when processing data."
   ]
  },
  {
   "cell_type": "code",
   "execution_count": null,
   "metadata": {},
   "outputs": [],
   "source": [
    "orig_image = glob.glob('ua*c0m.fits')[0]\n",
    "backup_image = 'simulation.fits'\n",
    "if os.path.isfile(backup_image):\n",
    "    os.remove(backup_image)\n",
    "shutil.copy2(orig_image, backup_image)"
   ]
  },
  {
   "cell_type": "markdown",
   "metadata": {},
   "source": [
    "## 3. Align the Images\n",
    "\n",
    "Due to small pointing errors, the image header WCS typically needs to be updated in order to achieve the best drizzle-combined products. The expected pointing accuracy for various observing scenerios is summarized in the DrizzlePac Handbook [Appendix B](http://documents.stsci.edu/hst/HST_overview/documents/DrizzlePac/AppendixB2.html). Input images must first be aligned so that when the coordinates of a given object (in detector space) are converted to sky coordinates (using the WCS), that object's sky coordinates must be approximately equal in each frame. \n",
    "\n",
    "The `DrizzlePac` task `TweakReg` may be used to correct for any errors in the image header WCS. First, `TweakReg` finds sources in each image, matches sources in common across images, and finds a separate linear transformation to align each image. `TweakReg` then computes a new WCS for each image based on this linear transformation.\n",
    "\n",
    "Here we show a basic image alignment procedure. For a more detailed illustration of image alignment, please refer to other example notebooks such as the mosaic example in this repository."
   ]
  },
  {
   "cell_type": "code",
   "execution_count": null,
   "metadata": {
    "scrolled": true
   },
   "outputs": [],
   "source": [
    "tweakreg.TweakReg('ua*c0m.fits', updatehdr=True, reusename=True, interactive=False,\n",
    "                  conv_width=3.0, threshold=300.0, peakmin=100, peakmax=10000)"
   ]
  },
  {
   "cell_type": "markdown",
   "metadata": {},
   "source": [
    "## 4. Equalize the chip sensitivities\n",
    "\n",
    "This step adjusts image data values so that all images and chips appear (to `AstroDrizzle`) to have a single inverse sensitivity (`PHOTFLAM`). This can be achieved using the `photeq` task in `Drizzlepac`. This task adjusts image data so that when these data are multiplied by the same single `PHOTFLAM` value, the correct flux is obtained."
   ]
  },
  {
   "cell_type": "code",
   "execution_count": null,
   "metadata": {
    "scrolled": true
   },
   "outputs": [],
   "source": [
    "photeq.photeq(files='ua*_c0m.fits', ref_phot_ext=3, readonly=False)"
   ]
  },
  {
   "cell_type": "markdown",
   "metadata": {},
   "source": [
    "In the above command, we instruct `photeq` to \"equalize\" all chips of all input images using the `PHOTFLAM` for the `WF3` chip (`ref_phot_ext=3`), using the first image as a reference. This reference `PHOTFLAM` value is reported in the log file:\n",
    "\n",
    "```\n",
    "REFERENCE VALUE FROM FILE: 'ua060502m_c0m.fits['SCI',1]'\n",
    "REFERENCE 'PHOTFLAM' VALUE IS: 2.507987e-18\n",
    "```\n",
    "\n",
    "Upon the completion, `photeq` will not only adjust image data but also update `PHOTFLAM` values for all chips to this specific reference value."
   ]
  },
  {
   "cell_type": "markdown",
   "metadata": {},
   "source": [
    "## 5. Drizzle-combine the images\n",
    "\n",
    "All four chips are now drizzled together with an output pixel scale set to that of the WF chips:"
   ]
  },
  {
   "cell_type": "code",
   "execution_count": null,
   "metadata": {
    "scrolled": true
   },
   "outputs": [],
   "source": [
    "\n",
    "astrodrizzle.AstroDrizzle('ua*c0m.fits',\n",
    "                          preserve=False,\n",
    "                          driz_sep_bits='8,1024',\n",
    "                          driz_sep_wcs=True,\n",
    "                          driz_sep_scale=0.0996,\n",
    "                          combine_type='median',\n",
    "                          driz_cr_snr='5.5 3.5',\n",
    "                          driz_cr_scale='2.0 1.5',\n",
    "                          final_fillval=None,\n",
    "                          final_bits='8,1024',\n",
    "                          final_wcs=True,\n",
    "                          final_scale=0.0996,\n",
    "                          skysub=False)"
   ]
  },
  {
   "cell_type": "code",
   "execution_count": null,
   "metadata": {
    "scrolled": false
   },
   "outputs": [],
   "source": [
    "drw_data = fits.getdata('final_drw_sci.fits')\n",
    "plt.figure(figsize=(10, 10))\n",
    "plt.imshow(drw_data, cmap='gray', vmin=-0.1, vmax=0.5, origin='lower')\n",
    "plt.show()"
   ]
  },
  {
   "cell_type": "markdown",
   "metadata": {},
   "source": [
    "## 6. Illustration of the Effects of Sensitivity Variation on Drizzling\n",
    "\n",
    "The effect of drizzling images with different detector sensitivies, while tangible, is sometimes difficult to _visualize_ in noisy data, especially when drizzling multiple dithered images that can blur the borders between chips.\n",
    "\n",
    "In this section we produce a simple simulation of observing a constant intensity \"blank sky\". We then make a copy of this image and apply sensitivity equalization to it. Finally we drizzle both images and compare them side-by-side."
   ]
  },
  {
   "cell_type": "markdown",
   "metadata": {},
   "source": [
    "### Simulate an Image of Constant \"Blank Sky\" Background\n",
    "\n",
    "In this simple simulation we assume only Poisson noise."
   ]
  },
  {
   "cell_type": "code",
   "execution_count": null,
   "metadata": {
    "scrolled": false
   },
   "outputs": [],
   "source": [
    "with fits.open(backup_image, mode='update') as h:\n",
    "    # get chip inverse-sensitivity:\n",
    "    phot1 = h[1].header['PHOTFLAM']\n",
    "    phot2 = h[2].header['PHOTFLAM']\n",
    "    phot3 = h[3].header['PHOTFLAM']\n",
    "    phot4 = h[4].header['PHOTFLAM']\n",
    "    \n",
    "    # get chip WCS:\n",
    "    w1 = HSTWCS(h, ext=1)\n",
    "    w2 = HSTWCS(h, ext=2)\n",
    "    w3 = HSTWCS(h, ext=3)\n",
    "    w4 = HSTWCS(h, ext=4)\n",
    "    ref_pscale = w4.idcscale\n",
    "    \n",
    "    # get chip gain:\n",
    "    cmdgain = h[0].header['ATODGAIN']\n",
    "    gain1 = WFPC2_GAINS[1][cmdgain][0]\n",
    "    gain2 = WFPC2_GAINS[2][cmdgain][0]\n",
    "    gain3 = WFPC2_GAINS[3][cmdgain][0]\n",
    "    gain4 = WFPC2_GAINS[4][cmdgain][0]\n",
    "    \n",
    "    # final drizzle scale:\n",
    "    scale = 0.0996\n",
    "    \n",
    "    # simulated sky level (\"true\" sky is constant):\n",
    "    sky = 10 * phot3\n",
    "\n",
    "    # simulate observed counts assuming only Poisson noise:\n",
    "    conv1a = gain1 * (w1.idcscale / ref_pscale)**2 / phot1\n",
    "    conv1b = (gain4 / gain1**2) * (ref_pscale / scale)**2\n",
    "    conv2a = gain2 * (w2.idcscale / ref_pscale)**2 / phot2\n",
    "    conv2b = (gain4 / gain2**2) * (ref_pscale / scale)**2\n",
    "    conv3a = gain3 * (w3.idcscale / ref_pscale)**2 / phot3\n",
    "    conv3b = (gain4 / gain3**2) * (ref_pscale / scale)**2\n",
    "    conv4a = gain4 * (w4.idcscale / ref_pscale)**2 / phot4\n",
    "    conv4b = (1.0 / gain4) * (ref_pscale / scale)**2\n",
    "\n",
    "    h[1].data[:, :] = np.random.poisson(conv1a * sky, h[1].data.shape) * conv1b\n",
    "    h[2].data[:, :] = np.random.poisson(conv2a * sky, h[2].data.shape) * conv2b\n",
    "    h[3].data[:, :] = np.random.poisson(conv3a * sky, h[3].data.shape) * conv3b\n",
    "    h[4].data[:, :] = np.random.poisson(conv4a * sky, h[4].data.shape) * conv4b\n",
    "\n",
    "# make a copy of this file:\n",
    "photeq_image = 'simulation_eq.fits'\n",
    "if os.path.isfile(photeq_image):\n",
    "    os.remove(photeq_image)\n",
    "shutil.copy2(backup_image, photeq_image)\n",
    "\n",
    "# apply equalization to the image copy:\n",
    "photeq.photeq(files=photeq_image, ref_phot_ext=3, readonly=False)"
   ]
  },
  {
   "cell_type": "markdown",
   "metadata": {},
   "source": [
    "We need to make a simulated DQ array. We used the first science image in the downloaded dataset for the simulation, so we will use its DQ image."
   ]
  },
  {
   "cell_type": "code",
   "execution_count": null,
   "metadata": {
    "scrolled": true
   },
   "outputs": [],
   "source": [
    "# make an DQ array for every \n",
    "hdu = fits.open('ua06050cm_c1m.fits')\n",
    "shape = np.shape(hdu[1].data)\n",
    "zero_DQ = np.zeros(shape)\n",
    "\n",
    "fits_file = fits.HDUList()\n",
    "# copy all of its extensions over, including the header\n",
    "hdu0 = fits.PrimaryHDU(header=hdu[0].header)\n",
    "hdu1 = fits.ImageHDU(hdu[1].data, header=hdu[1].header)\n",
    "hdu2 = fits.ImageHDU(hdu[2].data, header=hdu[2].header)\n",
    "hdu3 = fits.ImageHDU(hdu[3].data, header=hdu[3].header)\n",
    "hdu4 = fits.ImageHDU(hdu[4].data, header=hdu[4].header)\n",
    "\n",
    "fits_file.append(hdu0)\n",
    "fits_file.append(hdu1)\n",
    "fits_file.append(hdu2)\n",
    "fits_file.append(hdu3)\n",
    "fits_file.append(hdu4)\n",
    "\n",
    "fits_file.writeto('simula_c1n.fits', overwrite=True)\n",
    "fits_file.writeto('simulatio_c1q.fits', overwrite=True)"
   ]
  },
  {
   "cell_type": "markdown",
   "metadata": {},
   "source": [
    "### Drizzle the Original Simulated Image and the Equalized Image"
   ]
  },
  {
   "cell_type": "code",
   "execution_count": null,
   "metadata": {
    "scrolled": true
   },
   "outputs": [],
   "source": [
    "astrodrizzle.AstroDrizzle(\n",
    "    backup_image,\n",
    "    output='nonequalized.fits',\n",
    "    stepsize=1,\n",
    "    preserve=False,\n",
    "    restore=False,\n",
    "    in_memory=True,\n",
    "    context=False,\n",
    "    build=False,\n",
    "    static=False,\n",
    "    skysub=False,\n",
    "    median=False,\n",
    "    blot=False,\n",
    "    driz_cr=False,\n",
    "    final_fillval=None,\n",
    "    final_bits='',\n",
    "    final_wcs=True,\n",
    "    final_scale=scale)\n",
    "\n",
    "astrodrizzle.AstroDrizzle(\n",
    "    photeq_image,\n",
    "    output='equalized.fits',\n",
    "    stepsize=1,\n",
    "    preserve=False,\n",
    "    restore=False,\n",
    "    in_memory=True,\n",
    "    context=False,\n",
    "    build=False,\n",
    "    static=False,\n",
    "    skysub=False,\n",
    "    median=False,\n",
    "    blot=False,\n",
    "    driz_cr=False,\n",
    "    final_fillval=None,\n",
    "    final_bits='',\n",
    "    final_wcs=True,\n",
    "    final_scale=scale)"
   ]
  },
  {
   "cell_type": "markdown",
   "metadata": {},
   "source": [
    "### Display The Results of the Simulation Side-by-Side"
   ]
  },
  {
   "cell_type": "code",
   "execution_count": null,
   "metadata": {},
   "outputs": [],
   "source": [
    "%matplotlib inline\n",
    "drz_noneq = fits.getdata('nonequalized_sci.fits')\n",
    "drz_eq = fits.getdata('equalized_sci.fits')\n",
    "\n",
    "fig, (ax1, ax2) = plt.subplots(ncols=2, figsize=(24, 10))\n",
    "im1 = ax1.imshow(drz_noneq, cmap='gray', vmin=0.88, vmax=1.08, origin='lower')\n",
    "ax1.set_title('Original Simulation (Not equalized)')\n",
    "im2 = ax2.imshow(drz_eq, cmap='gray', vmin=0.88, vmax=1.08, origin='lower')\n",
    "ax2.set_title('Equalized Simulated Image')\n",
    "\n",
    "x1 = ax1.get_position().get_points().flatten()[0]\n",
    "x2 = ax2.get_position().get_points().flatten()[2] - x1\n",
    "ax_cbar = fig.add_axes([x1, 0, x2, 0.03])\n",
    "plt.colorbar(im1, cax=ax_cbar, orientation='horizontal')"
   ]
  },
  {
   "cell_type": "markdown",
   "metadata": {},
   "source": [
    "# About this Notebook\n",
    "\n",
    "    Author: M. Cara, STScI Data Analysis Tools Branch\n",
    "            K. Huynh, WFC3 Instrument Branch\n",
    "    Updated: June 27, 2023"
   ]
  }
 ],
 "metadata": {
  "kernelspec": {
   "display_name": "Python 3 (ipykernel)",
   "language": "python",
   "name": "python3"
  },
  "language_info": {
   "codemirror_mode": {
    "name": "ipython",
    "version": 3
   },
   "file_extension": ".py",
   "mimetype": "text/x-python",
   "name": "python",
   "nbconvert_exporter": "python",
   "pygments_lexer": "ipython3",
   "version": "3.8.12"
  },
  "varInspector": {
   "cols": {
    "lenName": 16,
    "lenType": 16,
    "lenVar": 40
   },
   "kernels_config": {
    "python": {
     "delete_cmd_postfix": "",
     "delete_cmd_prefix": "del ",
     "library": "var_list.py",
     "varRefreshCmd": "print(var_dic_list())"
    },
    "r": {
     "delete_cmd_postfix": ") ",
     "delete_cmd_prefix": "rm(",
     "library": "var_list.r",
     "varRefreshCmd": "cat(var_dic_list()) "
    }
   },
   "types_to_exclude": [
    "module",
    "function",
    "builtin_function_or_method",
    "instance",
    "_Feature"
   ],
   "window_display": false
  }
 },
 "nbformat": 4,
 "nbformat_minor": 2
}
